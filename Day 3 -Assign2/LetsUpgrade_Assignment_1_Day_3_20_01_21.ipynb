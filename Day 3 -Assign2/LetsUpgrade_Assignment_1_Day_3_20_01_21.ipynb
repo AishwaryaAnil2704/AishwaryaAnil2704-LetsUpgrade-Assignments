{
  "nbformat": 4,
  "nbformat_minor": 0,
  "metadata": {
    "colab": {
      "name": "LetsUpgrade Assignment 1 - Day 3 - 20/01/21.ipynb",
      "provenance": [],
      "collapsed_sections": []
    },
    "kernelspec": {
      "name": "python3",
      "display_name": "Python 3"
    }
  },
  "cells": [
    {
      "cell_type": "markdown",
      "metadata": {
        "id": "znpVh6MKvnEc"
      },
      "source": [
        "LetsUpgrade Assignment 2 - Day 3 - 20/01/21\r\n"
      ]
    },
    {
      "cell_type": "markdown",
      "metadata": {
        "id": "tAGthvAhvyaR"
      },
      "source": [
        "Write a Python program to remove empty List from List."
      ]
    },
    {
      "cell_type": "code",
      "metadata": {
        "colab": {
          "base_uri": "https://localhost:8080/"
        },
        "id": "KolvCVfdv9M0",
        "outputId": "a3b52f3d-6991-4646-d760-20e6818373c7"
      },
      "source": [
        "mylist = [1,2,3,4,[],5,'hello',[],'hi',[]]\r\n",
        "\r\n",
        "print(\"The original list is: \",str(mylist))\r\n",
        "\r\n",
        "new_list = list(el for el in mylist if el != [])\r\n",
        "print(new_list)\r\n",
        "print (\"List after empty list removal : \",str(new_list))"
      ],
      "execution_count": 1,
      "outputs": [
        {
          "output_type": "stream",
          "text": [
            "The original list is:  [1, 2, 3, 4, [], 5, 'hello', [], 'hi', []]\n",
            "[1, 2, 3, 4, 5, 'hello', 'hi']\n",
            "List after empty list removal :  [1, 2, 3, 4, 5, 'hello', 'hi']\n"
          ],
          "name": "stdout"
        }
      ]
    },
    {
      "cell_type": "markdown",
      "metadata": {
        "id": "GjUia8vNvyQF"
      },
      "source": [
        "Write a Python program to remove all duplicates words from a given sentence"
      ]
    },
    {
      "cell_type": "code",
      "metadata": {
        "colab": {
          "base_uri": "https://localhost:8080/"
        },
        "id": "u-Fwt76xwRku",
        "outputId": "261a200c-f438-450f-fbce-ec484b243830"
      },
      "source": [
        "mystr = \"Big black Bug bit a Big black Dog on his Big black Nose\"\r\n",
        "\r\n",
        "mystr1 = mystr.lower()\r\n",
        "print(mystr1)\r\n",
        "\r\n",
        "words = mystr.split(\" \")\r\n",
        "print(words)\r\n",
        "print(len(words))\r\n",
        "\r\n",
        "print(\"Duplicate words in a given string are: \")\r\n",
        "for i in range(0, len(words)):  \r\n",
        "    count = 1;  \r\n",
        "    for j in range(i+1, len(words)): \r\n",
        "        if(words[i] == (words[j])):  \r\n",
        "            count = count + 1;  \r\n",
        "            words[j] = \"0\";  \r\n",
        "    if(count > 1 and words[i] != \"0\"):  \r\n",
        "            print(words[i]); "
      ],
      "execution_count": 2,
      "outputs": [
        {
          "output_type": "stream",
          "text": [
            "big black bug bit a big black dog on his big black nose\n",
            "['Big', 'black', 'Bug', 'bit', 'a', 'Big', 'black', 'Dog', 'on', 'his', 'Big', 'black', 'Nose']\n",
            "13\n",
            "Duplicate words in a given string are: \n",
            "Big\n",
            "black\n"
          ],
          "name": "stdout"
        }
      ]
    },
    {
      "cell_type": "markdown",
      "metadata": {
        "id": "XFilKDXEvx87"
      },
      "source": [
        "Write a Python program to find all occurrences of a character in the given string"
      ]
    },
    {
      "cell_type": "code",
      "metadata": {
        "colab": {
          "base_uri": "https://localhost:8080/"
        },
        "id": "BKCt-t8UvtY6",
        "outputId": "ff7237a2-5a80-4dbe-b8eb-b7c773b97ff6"
      },
      "source": [
        "str1 = input(\"Please enter a string : \")\r\n",
        "ch = input(\"Please enter a Character : \")\r\n",
        "\r\n",
        "count = 0\r\n",
        "for i in str1: \r\n",
        "    if i == ch: \r\n",
        "        count = count + 1\r\n",
        "  \r\n",
        "print (\"Count of\", ch , \"in \\\"\",str1, \"\\\" is:\",str(count))  "
      ],
      "execution_count": 4,
      "outputs": [
        {
          "output_type": "stream",
          "text": [
            "Please enter a string : This is how you do it\n",
            "Please enter a Character : i\n",
            "Count of i in \" This is how you do it \" is: 3\n"
          ],
          "name": "stdout"
        }
      ]
    }
  ]
}
