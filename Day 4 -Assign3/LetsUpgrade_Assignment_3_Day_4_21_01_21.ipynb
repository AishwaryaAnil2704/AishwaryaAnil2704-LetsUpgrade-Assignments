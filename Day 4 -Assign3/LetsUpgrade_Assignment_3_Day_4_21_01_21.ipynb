{
  "nbformat": 4,
  "nbformat_minor": 0,
  "metadata": {
    "colab": {
      "name": "LetsUpgrade Assignment 3 - Day 4 - 21_01_21.ipynb",
      "provenance": []
    },
    "kernelspec": {
      "name": "python3",
      "display_name": "Python 3"
    }
  },
  "cells": [
    {
      "cell_type": "markdown",
      "metadata": {
        "id": "ZBfeP3QpKADJ"
      },
      "source": [
        "LetsUpgrade Assignment 3 - Day 4 - 21/01/21"
      ]
    },
    {
      "cell_type": "markdown",
      "metadata": {
        "id": "cLJjDQmIKLtZ"
      },
      "source": [
        "Write a Python program to merge two files into a third file."
      ]
    },
    {
      "cell_type": "code",
      "metadata": {
        "id": "Vqc7enU4KXQa"
      },
      "source": [
        "d1 = \"\" \r\n",
        "d2 = \"\"\r\n",
        "\r\n",
        "with open('file1.txt') as fp1: \r\n",
        "    d1 = fp1.read() \r\n",
        "    \r\n",
        "with open('file2.txt') as fp2: \r\n",
        "    d2 = fp2.read() \r\n",
        "    \r\n",
        "d1 = d1 + \"\\n\"\r\n",
        "d1 = d1 + d2 \r\n",
        "  \r\n",
        "with open ('file3.txt', 'w') as fp3: \r\n",
        "    fp3.write(d1) \r\n",
        "    d1 = \"\" \r\n",
        "d2 = \"\"\r\n",
        "\r\n",
        "with open('file1.txt') as fp1: \r\n",
        "    d1 = fp1.read() \r\n",
        "    \r\n",
        "with open('file2.txt') as fp2: \r\n",
        "    d2 = fp2.read() \r\n",
        "    \r\n",
        "d1 = d1 + \"\\n\"\r\n",
        "d1 = d1 + d2 \r\n",
        "  \r\n",
        "with open ('file3.txt', 'w') as fp3: \r\n",
        "    fp3.write(d1)\r\n",
        "    "
      ],
      "execution_count": 6,
      "outputs": []
    },
    {
      "cell_type": "markdown",
      "metadata": {
        "id": "J1Jl6VHFKLf_"
      },
      "source": [
        "Take two lists as input list1 = [1,2,3,4,5] and list2 = [\"a\", \"b\", \"c\", \"d\", \"e\"] From that make a\r\n",
        "dictionary ouput {1:\"a\", 2:\"b\", 3:\"c\", 4:\"d\", 5:\"e\"}"
      ]
    },
    {
      "cell_type": "code",
      "metadata": {
        "colab": {
          "base_uri": "https://localhost:8080/"
        },
        "id": "3olL5Gm5IjrM",
        "outputId": "f83bcd29-e29c-4568-d052-c00b75e01e51"
      },
      "source": [
        "list1 = [1,2,3,4,5]\r\n",
        "list2 = [\"a\", \"b\", \"c\", \"d\", \"e\"]\r\n",
        "\r\n",
        "new_list = []\r\n",
        "for item in zip(list1,list2):\r\n",
        "    new_list.append(item)\r\n",
        "print(new_list)\r\n",
        "\r\n",
        "con_dict = dict(new_list)\r\n",
        "print(con_dict)"
      ],
      "execution_count": 1,
      "outputs": [
        {
          "output_type": "stream",
          "text": [
            "[(1, 'a'), (2, 'b'), (3, 'c'), (4, 'd'), (5, 'e')]\n",
            "{1: 'a', 2: 'b', 3: 'c', 4: 'd', 5: 'e'}\n"
          ],
          "name": "stdout"
        }
      ]
    }
  ]
}